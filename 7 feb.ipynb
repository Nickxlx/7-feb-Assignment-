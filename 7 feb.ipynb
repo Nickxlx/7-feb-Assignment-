{
 "cells": [
  {
   "cell_type": "markdown",
   "id": "e7d491af-89f6-4c57-9631-16dcc665a45f",
   "metadata": {},
   "source": [
    "Q1. You are writing code for a company. The requirement of the company is that you create a python\n",
    "function that will check whether the password entered by the user is correct or not. The function should\n",
    "take the password as input and return the string “Valid Password” if the entered password follows the\n",
    "below-given password guidelines else it should return “Invalid Password”.\n",
    "\n",
    "Note:\n",
    "1. The Password should contain at least two uppercase letters and at least two lowercase letters.\n",
    "2. The Password should contain at least a number and three special characters.\n",
    "3. The length of the password should be 10 characters long."
   ]
  },
  {
   "cell_type": "code",
   "execution_count": 26,
   "id": "4fdea4cf-aed9-42ac-8c9a-449753bb0054",
   "metadata": {},
   "outputs": [],
   "source": [
    "def check_password(password):\n",
    "    # Count the number of uppercase and lowercase letters in the password\n",
    "    num_upper = sum(1 for c in password if c.isupper())\n",
    "    num_lower = sum(1 for c in password if c.islower())\n",
    "    \n",
    "    # Count the number of digits and special characters in the password\n",
    "    num_digits = sum(1 for c in password if c.isdigit())\n",
    "    num_special = sum(1 for c in password if not c.isalnum())\n",
    "    \n",
    "    # Check if the password meets all the criteria\n",
    "    if (num_upper >= 2 and num_lower >= 2 and num_digits >= 1 and num_special >= 3 and len(password) == 10):\n",
    "        return \"Valid Password\"\n",
    "    else:\n",
    "        return \"Invalid Password\""
   ]
  },
  {
   "cell_type": "code",
   "execution_count": 27,
   "id": "58cd1139-33be-4f9c-af5d-b1792694e83d",
   "metadata": {},
   "outputs": [
    {
     "name": "stdin",
     "output_type": "stream",
     "text": [
      "Enter your password  AAaa@@#122\n"
     ]
    },
    {
     "name": "stdout",
     "output_type": "stream",
     "text": [
      "Valid Password\n"
     ]
    }
   ],
   "source": [
    "password = input(\"Enter your password \")\n",
    "result = check_password(password)\n",
    "print(result)"
   ]
  },
  {
   "cell_type": "code",
   "execution_count": null,
   "id": "d0fd11b7-4613-457c-b03a-a80933b2aa39",
   "metadata": {},
   "outputs": [],
   "source": []
  },
  {
   "cell_type": "markdown",
   "id": "64c2f706-dabe-4aeb-9117-1e4bb6a03dde",
   "metadata": {},
   "source": [
    "Q2. Solve the below-given questions using at least one of the following:\n",
    "1. Lambda functioJ\n",
    "2. Filter functioJ\n",
    "3. Zap functioJ\n",
    "4. List ComprehensioI"
   ]
  },
  {
   "cell_type": "code",
   "execution_count": null,
   "id": "7a8d21ea-9cef-4d61-bcf4-20ac9ced86fe",
   "metadata": {},
   "outputs": [],
   "source": []
  },
  {
   "cell_type": "markdown",
   "id": "30ab7347-18e8-4397-a90d-247f30d53787",
   "metadata": {},
   "source": [
    " Check if the string starts with a particular letter. "
   ]
  },
  {
   "cell_type": "code",
   "execution_count": 3,
   "id": "80cd3a1c-dc32-4f09-b2f5-051cd2606420",
   "metadata": {},
   "outputs": [
    {
     "name": "stdin",
     "output_type": "stream",
     "text": [
      "Enter your string :  nigjdf\n",
      "Enter your letter to check  :  n\n"
     ]
    },
    {
     "name": "stdout",
     "output_type": "stream",
     "text": [
      "Yes, string stats with the particular no \n"
     ]
    }
   ],
   "source": [
    "s = input(\"Enter your string : \")\n",
    "c = input(\"Enter your letter to check  : \")\n",
    "a = lambda s,c : s[0]==c \n",
    "\n",
    "if a(s,c) :\n",
    "    print(\"Yes, string stats with the particular no \")\n",
    "else:\n",
    "    print(\"No, string doesn't  stats with the particular no \")    "
   ]
  },
  {
   "cell_type": "code",
   "execution_count": null,
   "id": "f0be869d-0e5a-4e74-8f5d-44fbcef2c023",
   "metadata": {},
   "outputs": [],
   "source": []
  },
  {
   "cell_type": "markdown",
   "id": "f8da878a-050c-4659-a29e-3af46e9b88b8",
   "metadata": {},
   "source": [
    " Check if the string is numeric."
   ]
  },
  {
   "cell_type": "code",
   "execution_count": 65,
   "id": "a699e447-ca2b-4b97-bb8d-0cc523f9c11f",
   "metadata": {},
   "outputs": [
    {
     "name": "stdout",
     "output_type": "stream",
     "text": [
      "Yes, Entered string is numarical \n"
     ]
    }
   ],
   "source": [
    "s = \"1245\"\n",
    "\n",
    "result = lambda x : type(x) == int or type(x) == float \n",
    "\n",
    "if result(int(s)) :\n",
    "    print(\"Yes, Entered string is numarical \")\n"
   ]
  },
  {
   "cell_type": "code",
   "execution_count": null,
   "id": "ce05f783-2993-4847-8d48-d058ca2ccd7d",
   "metadata": {},
   "outputs": [],
   "source": []
  },
  {
   "cell_type": "markdown",
   "id": "d042d901-0b5f-4267-bd61-f7b62e3e4c0a",
   "metadata": {},
   "source": [
    "Sort a list of tuples having fruit names and their quantity. [(\"mango\",99),(\"orange\",80), (\"grapes\", 1000)]"
   ]
  },
  {
   "cell_type": "code",
   "execution_count": 30,
   "id": "41cfeba6-e0c6-4fbf-a5e7-b7c1a33bd00a",
   "metadata": {},
   "outputs": [
    {
     "name": "stdout",
     "output_type": "stream",
     "text": [
      "list befor sorting\n",
      "[('mango', 99), ('orange', 80), ('grapes', 1000)]\n",
      "\n",
      "list after sorting\n"
     ]
    },
    {
     "data": {
      "text/plain": [
       "[('orange', 80), ('mango', 99), ('grapes', 1000)]"
      ]
     },
     "execution_count": 30,
     "metadata": {},
     "output_type": "execute_result"
    }
   ],
   "source": [
    "lst = [(\"mango\",99),(\"orange\",80), (\"grapes\", 1000)]\n",
    "\n",
    "print(\"list befor sorting\")\n",
    "print(lst)\n",
    "\n",
    "lst.sort(key = lambda s : s[1])\n",
    "print(\"\\nlist after sorting\")\n",
    "lst\n"
   ]
  },
  {
   "cell_type": "code",
   "execution_count": null,
   "id": "81fd8507-e3ed-4fcc-8dd7-f0d76a1a30a5",
   "metadata": {},
   "outputs": [],
   "source": []
  },
  {
   "cell_type": "markdown",
   "id": "43a8b91c-4452-44cc-9a4f-b52cf4b57db0",
   "metadata": {},
   "source": [
    " Find the squares of numbers from 1 to 10"
   ]
  },
  {
   "cell_type": "code",
   "execution_count": 34,
   "id": "cd6d077e-0502-474c-a4e8-ce6c68adbbb6",
   "metadata": {},
   "outputs": [
    {
     "data": {
      "text/plain": [
       "[1, 4, 9, 16, 25, 36, 49, 64, 81, 100]"
      ]
     },
     "execution_count": 34,
     "metadata": {},
     "output_type": "execute_result"
    }
   ],
   "source": [
    "n = []\n",
    "for i in range(1,11) :\n",
    "    n.append(i)\n",
    "    \n",
    "list(map(lambda x :x**2 , n))"
   ]
  },
  {
   "cell_type": "code",
   "execution_count": null,
   "id": "5282eccd-b092-4400-9e5d-3f89d7c81e14",
   "metadata": {},
   "outputs": [],
   "source": []
  },
  {
   "cell_type": "markdown",
   "id": "97f47570-92ec-44cc-a5a3-cb380ad5f40a",
   "metadata": {},
   "source": [
    "Find the cube root of numbers from 1 to 10"
   ]
  },
  {
   "cell_type": "code",
   "execution_count": 36,
   "id": "67b3e166-ef07-47a0-b0f0-efff667c0060",
   "metadata": {},
   "outputs": [
    {
     "data": {
      "text/plain": [
       "[1.0,\n",
       " 1.2599210498948732,\n",
       " 1.4422495703074083,\n",
       " 1.5874010519681994,\n",
       " 1.7099759466766968,\n",
       " 1.8171205928321397,\n",
       " 1.912931182772389,\n",
       " 2.0,\n",
       " 2.080083823051904,\n",
       " 2.154434690031884]"
      ]
     },
     "execution_count": 36,
     "metadata": {},
     "output_type": "execute_result"
    }
   ],
   "source": [
    "n = []\n",
    "for i in range(1,11) :\n",
    "    n.append(i)\n",
    "    \n",
    "list(map(lambda x :x**(1/3) , n))"
   ]
  },
  {
   "cell_type": "code",
   "execution_count": null,
   "id": "85e8d4b6-e1ba-4737-b218-5ca92e7fa0d8",
   "metadata": {},
   "outputs": [],
   "source": []
  },
  {
   "cell_type": "markdown",
   "id": "bd555aa8-ba52-4d24-9dd7-cf5810d185c1",
   "metadata": {},
   "source": [
    "Check if a given number is even"
   ]
  },
  {
   "cell_type": "code",
   "execution_count": 56,
   "id": "21e78bcd-00a2-40b9-b60d-1448d46e9c77",
   "metadata": {},
   "outputs": [
    {
     "name": "stdout",
     "output_type": "stream",
     "text": [
      "Number is even \n"
     ]
    }
   ],
   "source": [
    "num = 4\n",
    "is_even =lambda x : x%2 == 0 \n",
    "\n",
    "if is_even(num): \n",
    "    print(\"Number is even \")\n",
    "else:\n",
    "    print(\"Number is not even \")    "
   ]
  },
  {
   "cell_type": "code",
   "execution_count": null,
   "id": "26771a4e-06a9-40ae-bbb4-61469548ca9a",
   "metadata": {},
   "outputs": [],
   "source": []
  },
  {
   "cell_type": "markdown",
   "id": "e45b2558-7fc0-4c63-9188-d2dd2185dd5d",
   "metadata": {},
   "source": [
    " Filter odd numbers from the given list.\n",
    "[1,2,3,4,5,6,7,8,9,10]"
   ]
  },
  {
   "cell_type": "code",
   "execution_count": 58,
   "id": "b03b3505-ac60-4206-af87-c45adbea682b",
   "metadata": {},
   "outputs": [
    {
     "data": {
      "text/plain": [
       "[1, 3, 5, 7, 9]"
      ]
     },
     "execution_count": 58,
     "metadata": {},
     "output_type": "execute_result"
    }
   ],
   "source": [
    "lst = [1,2,3,4,5,6,7,8,9,10]\n",
    "\n",
    "list(filter(lambda x: x%2!=0, lst))"
   ]
  },
  {
   "cell_type": "code",
   "execution_count": null,
   "id": "0f14ccc6-895f-48e1-9cdd-93704c58af00",
   "metadata": {},
   "outputs": [],
   "source": []
  },
  {
   "cell_type": "markdown",
   "id": "37e57802-95f5-49e5-9c39-740bd901534b",
   "metadata": {},
   "source": [
    "Sort a list of integers into positive and negative integers lists.\n",
    "[1,2,3,4,5,6,-1,-2,-3,-4,-5,0]"
   ]
  },
  {
   "cell_type": "code",
   "execution_count": 61,
   "id": "9dabc3a5-4aab-491d-a7c7-7f860dcc65b1",
   "metadata": {},
   "outputs": [
    {
     "name": "stdout",
     "output_type": "stream",
     "text": [
      "list of negetive integer\n"
     ]
    },
    {
     "data": {
      "text/plain": [
       "[-1, -2, -3, -4, -5]"
      ]
     },
     "execution_count": 61,
     "metadata": {},
     "output_type": "execute_result"
    }
   ],
   "source": [
    "lst = [1,2,3,4,5,6,-1,-2,-3,-4,-5,0]\n",
    "\n",
    "print(\"list of negetive integer\")\n",
    "list(filter(lambda x: x<0,lst))\n",
    "\n"
   ]
  },
  {
   "cell_type": "code",
   "execution_count": 62,
   "id": "c48d6913-eaa8-4bde-985c-ac355ee6a3f7",
   "metadata": {},
   "outputs": [
    {
     "name": "stdout",
     "output_type": "stream",
     "text": [
      "list of positive integer\n"
     ]
    },
    {
     "data": {
      "text/plain": [
       "[1, 2, 3, 4, 5, 6, 0]"
      ]
     },
     "execution_count": 62,
     "metadata": {},
     "output_type": "execute_result"
    }
   ],
   "source": [
    "print(\"list of positive integer\")\n",
    "list(filter(lambda x: x>=0,lst))\n"
   ]
  },
  {
   "cell_type": "code",
   "execution_count": null,
   "id": "bd6a0d6d-e1d3-4935-b716-1e6c0d31b135",
   "metadata": {},
   "outputs": [],
   "source": []
  }
 ],
 "metadata": {
  "kernelspec": {
   "display_name": "Python 3 (ipykernel)",
   "language": "python",
   "name": "python3"
  },
  "language_info": {
   "codemirror_mode": {
    "name": "ipython",
    "version": 3
   },
   "file_extension": ".py",
   "mimetype": "text/x-python",
   "name": "python",
   "nbconvert_exporter": "python",
   "pygments_lexer": "ipython3",
   "version": "3.10.8"
  }
 },
 "nbformat": 4,
 "nbformat_minor": 5
}
